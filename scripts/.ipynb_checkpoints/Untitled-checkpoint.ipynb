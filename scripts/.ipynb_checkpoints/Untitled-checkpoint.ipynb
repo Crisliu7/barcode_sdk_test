{
 "cells": [
  {
   "cell_type": "code",
   "execution_count": 15,
   "metadata": {},
   "outputs": [
    {
     "data": {
      "text/plain": [
       "'test parameters end'"
      ]
     },
     "execution_count": 15,
     "metadata": {},
     "output_type": "execute_result"
    }
   ],
   "source": [
    "import fnmatch\n",
    "import os\n",
    "import csv\n",
    "import numpy as np\n",
    "import matplotlib.pyplot as plt\n",
    "\n",
    "'''test parameters initialization'''\n",
    "# order in array\n",
    "barcode_data_order = 1\n",
    "decode_time_order = 2\n",
    "barcode_data_gt = np.array(['00561313620000100642268947', '096619738397', '817974021258', '858612003144', \n",
    "                            '03014301', 'X000VGHSGD', 'X001O78ZC9', 'X0016FAXSX', '1679571000000005354125',\n",
    "                            '95173000001121058025' ])\n",
    "barcode_data_gt_four = np.repeat(barcode_data_gt, 4)\n",
    "\n",
    "device_percent = np.array([])\n",
    "device_time = np.array([])\n",
    "\n",
    "resolution = '720p'\n",
    "angle = 'angle-0'\n",
    "catogary_name = 'full'\n",
    "file_name = '_'+resolution+'_'+angle+'_'+catogary_name+'_result.csv'\n",
    "\n",
    "# file_name_group = ['../zbar/zbar'+file_name , '../scandit/scandit'+file_name, '../dynamsoft/dynamsoft'+file_name]\n",
    "file_name_group = ['../scandit/scandit'+file_name]\n",
    "\n",
    "'''test parameters end'''\n",
    "\n"
   ]
  },
  {
   "cell_type": "code",
   "execution_count": 18,
   "metadata": {},
   "outputs": [
    {
     "name": "stdout",
     "output_type": "stream",
     "text": [
      "gt:  40\n",
      "array:  ['00561313620000100642268947' '00561313620000100642268947'\n",
      " '00561313620000100642268947' '00561313620000100642268947' '096619738397'\n",
      " '096619738397' '096619738397' '096619738397' '817974021258'\n",
      " '817974021258' '817974021258' '817974021258' '858612003144'\n",
      " '858612003144' '858612003144' '858612003144' '03014301' '03014301'\n",
      " '03014301' '03014301' 'X000VGHSGD' 'X000VGHSGD' 'X000VGHSGD' 'X000VGHSGD'\n",
      " 'X001O78ZC9' 'X001O78ZC9' 'X001O78ZC9' 'X001O78ZC9' 'X0016FAXSX'\n",
      " 'X0016FAXSX' 'X0016FAXSX' 'X0016FAXSX' '1679571000000005354125'\n",
      " '1679571000000005354125' '1679571000000005354125'\n",
      " '1679571000000005354125' '95173000001121058025' '95173000001121058025'\n",
      " '95173000001121058025' '95173000001121058025']\n",
      "[False False False False False False False False False False False False\n",
      " False False False False False False False False False False False False\n",
      "  True False False False False False False False False False False False\n",
      " False False False False]\n"
     ]
    }
   ],
   "source": [
    " # raverse folder\n",
    "for file_name in file_name_group:\n",
    "    with open(file_name, newline='') as csvfile:\n",
    "        rd = csv.reader(csvfile, delimiter='\\t')\n",
    "        # make reader a list\n",
    "        mt_list = list(rd)\n",
    "        # make list a numpy array\n",
    "        mt_array = np.array(mt_list)\n",
    "        print('array: ', mt_array[0])\n",
    "        \n",
    "#         print('array: ', np.size(mt_array[0]))\n",
    "#         print('gt: ', np.size(barcode_data_gt_four))\n",
    "        print('array: ', barcode_data_gt_four)\n",
    "        \n",
    "        print((mt_array[0] == barcode_data_gt_four))\n",
    "#         # find first index of repeated barcode\n",
    "#         list_none_repeated, indices = np.unique(mt_array[barcode_data_order], return_index=True)\n",
    "#         print('unique array', list_none_repeated)\n",
    "#         print('indices', indices)\n",
    "#         #\n",
    "#         mask = np.delete(np.array(range(np.size(mt_array, 1))), indices)\n",
    "#         print('delete mask', mask)\n",
    "#         # remove repeated barcodes\n",
    "#         mt_none_repeated = np.delete(mt_array, mask, 1)\n",
    "#         print('none repeated matrix: ', mt_none_repeated[barcode_data_order])\n",
    "\n",
    "# #         print(rd_none_repeated)\n",
    "#     # decode percentage\n",
    "#     barcode_intersect = np.intersect1d(mt_none_repeated[barcode_data_order], barcode_data_gt)\n",
    "#     print('interesct array: ', barcode_intersect)\n",
    "#     decode_percent_num = np.size(barcode_intersect, 0)\n",
    "#     decode_percent_den = np.size(barcode_data_gt, 0)\n",
    "#     decode_percent = decode_percent_num / decode_percent_den\n",
    "#     # decode time (count for wrong results????????)\n",
    "#     print('decoding time: ', mt_none_repeated[decode_time_order])\n",
    "#     decode_time_num = np.sum(np.asarray(mt_none_repeated[decode_time_order], dtype=float))\n",
    "#     decode_time_den = np.size(mt_none_repeated[decode_time_order])\n",
    "#     decode_time = decode_time_num / decode_time_den\n",
    "#     # append to \n",
    "#     device_percent = np.append(device_percent, decode_percent)\n",
    "#     device_time = np.append(device_time, decode_time)\n",
    "\n",
    "\n",
    "\n",
    "\n",
    "#     print(device_percent)\n",
    "#     print(device_time)\n",
    "\n",
    "\n",
    "#     # add this device's data to csv file\n",
    "#     with open('multi_device_data.csv', 'a+', newline='') as csvfile:\n",
    "#         writer = csv.writer(csvfile)\n",
    "#         writer.writerow(device_percent)\n",
    "#         writer.writerow(device_time)\n",
    "\n",
    "    \n",
    "        "
   ]
  },
  {
   "cell_type": "code",
   "execution_count": null,
   "metadata": {},
   "outputs": [],
   "source": []
  }
 ],
 "metadata": {
  "kernelspec": {
   "display_name": "Python 3",
   "language": "python",
   "name": "python3"
  },
  "language_info": {
   "codemirror_mode": {
    "name": "ipython",
    "version": 3
   },
   "file_extension": ".py",
   "mimetype": "text/x-python",
   "name": "python",
   "nbconvert_exporter": "python",
   "pygments_lexer": "ipython3",
   "version": "3.6.6"
  }
 },
 "nbformat": 4,
 "nbformat_minor": 2
}
