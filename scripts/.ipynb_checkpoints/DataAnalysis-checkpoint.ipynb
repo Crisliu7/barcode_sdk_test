{
 "cells": [
  {
   "cell_type": "code",
   "execution_count": 48,
   "metadata": {},
   "outputs": [
    {
     "name": "stdout",
     "output_type": "stream",
     "text": [
      "zbar_720p_angle-0_full_result.csv\n",
      "zbar_1080p_angle-0_full_result.csv\n",
      "[0.9   0.675]\n",
      "[0.13198862 0.25024203]\n",
      "scandit_720p_angle-0_full_result.csv\n",
      "scandit_1080p_angle-0_full_result.csv\n",
      "[1.   0.95]\n",
      "[0.0476986  0.09343805]\n",
      "dynamsoft_720p_angle-0_full_result.csv\n",
      "dynamsoft_1080p_angle-0_full_result.csv\n",
      "[1. 1.]\n",
      "[0.0584273  0.14085602]\n"
     ]
    }
   ],
   "source": [
    "import fnmatch\n",
    "import os\n",
    "import csv\n",
    "import numpy as np\n",
    "import matplotlib.pyplot as plt\n",
    "\n",
    "\n",
    "# clean csv file\n",
    "f = open(\"multi_sdk_data.csv\", \"w\")\n",
    "f.truncate()\n",
    "f.close()\n",
    "\n",
    "'''test parameters initialization'''\n",
    "# order in array\n",
    "barcode_data_order = 0\n",
    "decode_time_order = 1\n",
    "barcode_data_gt = np.array(['00561313620000100642268947', '096619738397', '817974021258', '858612003144', \n",
    "                            '03014301', 'X000VGHSGD', 'X001O78ZC9', 'X0016FAXSX', '1679571000000005354125',\n",
    "                            '95173000001121058025' ])\n",
    "barcode_data_gt_four = np.repeat(barcode_data_gt, 4)\n",
    "\n",
    "\n",
    "\n",
    "sdk_group = ['zbar', 'scandit', 'dynamsoft']\n",
    "file_group = []\n",
    "resolutions = ['720p']\n",
    "# resolutions = ['480p', '720p', '1080p']\n",
    "angles = ['angle-0']\n",
    "# barcodes_integrity = ['full']\n",
    "barcodes_integrity = ['full', 'half', 'quarter']\n",
    "\n",
    "\n",
    "\n",
    "\n",
    "for resolution in resolutions:\n",
    "    for angle in angles:\n",
    "        for barcode_integrity in barcodes_integrity:\n",
    "            file_group.append('_'+resolution+'_'+angle+'_'+barcode_integrity+'_result.csv')\n",
    "'''test parameters end'''\n",
    "\n",
    " # raverse folder\n",
    "for sdk_name in sdk_group:\n",
    "    sdk_decode_percent = np.array([])\n",
    "    sdk_decode_time = np.array([])\n",
    "    for file in file_group:\n",
    "        file_name = sdk_name + file\n",
    "        print(file_name)\n",
    "        with open('../data/'+file_name, newline='') as csvfile:\n",
    "            rd = csv.reader(csvfile, delimiter='\\t')\n",
    "            # make reader a list\n",
    "            mt_list = list(rd)\n",
    "            # make list a numpy array\n",
    "            mt_array = np.array(mt_list)\n",
    "#             print('array: ', mt_array[barcode_data_order])\n",
    "    #         print('array: ', np.size(mt_array[0]))\n",
    "    #         print('gt: ', np.size(barcode_data_gt_four))\n",
    "#             print('gt: ', barcode_data_gt_four)\n",
    "            decode_percent_num = np.sum(mt_array[barcode_data_order] == barcode_data_gt_four)\n",
    "#             print('count', decode_percent_num)\n",
    "            decode_percent_den = np.size(barcode_data_gt_four)\n",
    "            decode_percent = decode_percent_num/decode_percent_den\n",
    "#             print('time', mt_array[decode_time_order])\n",
    "            decode_time_total = np.sum(np.asarray(mt_array[decode_time_order], dtype=float))\n",
    "            decode_time = decode_time_total/np.size(barcode_data_gt_four)\n",
    "        sdk_decode_percent = np.append(sdk_decode_percent, decode_percent)\n",
    "        sdk_decode_time = np.append(sdk_decode_time, decode_time)\n",
    "            \n",
    "    with open('multi_sdk_data.csv', 'a+', newline='') as csvfile:\n",
    "        writer = csv.writer(csvfile)\n",
    "        writer.writerow(sdk_decode_percent)\n",
    "        writer.writerow(sdk_decode_time)        \n",
    "        \n",
    "        \n",
    "\n",
    "\n",
    "\n",
    "    print(sdk_decode_percent)\n",
    "    print(sdk_decode_time)\n",
    "\n"
   ]
  },
  {
   "cell_type": "code",
   "execution_count": 47,
   "metadata": {},
   "outputs": [
    {
     "name": "stdout",
     "output_type": "stream",
     "text": [
      "zbar_720p_angle-0_full_result.csv\n",
      "zbar_1080p_angle-0_full_result.csv\n",
      "[0.9   0.675]\n",
      "[0.13198862 0.25024203]\n",
      "scandit_720p_angle-0_full_result.csv\n",
      "scandit_1080p_angle-0_full_result.csv\n",
      "[1.   0.95]\n",
      "[0.0476986  0.09343805]\n",
      "dynamsoft_720p_angle-0_full_result.csv\n",
      "dynamsoft_1080p_angle-0_full_result.csv\n",
      "[1. 1.]\n",
      "[0.0584273  0.14085602]\n"
     ]
    }
   ],
   "source": [
    "\n",
    "\n",
    "    \n",
    "        "
   ]
  },
  {
   "cell_type": "code",
   "execution_count": null,
   "metadata": {},
   "outputs": [],
   "source": []
  }
 ],
 "metadata": {
  "kernelspec": {
   "display_name": "Python 3",
   "language": "python",
   "name": "python3"
  },
  "language_info": {
   "codemirror_mode": {
    "name": "ipython",
    "version": 3
   },
   "file_extension": ".py",
   "mimetype": "text/x-python",
   "name": "python",
   "nbconvert_exporter": "python",
   "pygments_lexer": "ipython3",
   "version": "3.6.6"
  }
 },
 "nbformat": 4,
 "nbformat_minor": 2
}
